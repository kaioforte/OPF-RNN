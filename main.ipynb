{
 "cells": [
  {
   "cell_type": "code",
   "execution_count": 1,
   "metadata": {},
   "outputs": [],
   "source": [
    "from comet_ml import Experiment\n",
    "import pandas as pd\n",
    "import numpy as np\n",
    "import matplotlib.pyplot as plt\n",
    "from sklearn.model_selection import train_test_split\n",
    "from scipy.io import loadmat\n",
    "from datetime import datetime"
   ]
  },
  {
   "cell_type": "code",
   "execution_count": null,
   "metadata": {},
   "outputs": [],
   "source": [
    "## Create an experiment with your api key\n",
    "experiment = Experiment(\n",
    "    api_key=\"Q5t8ZJ5IC5PvHbwAugI7xihW4\",\n",
    "    project_name=\"mlp-pseudomeasurements\",\n",
    "    workspace=\"kaioforte\",\n",
    "    auto_histogram_weight_logging=True,\n",
    "    auto_histogram_gradient_logging=True,\n",
    "    auto_histogram_activation_logging=True,\n",
    ")"
   ]
  },
  {
   "cell_type": "markdown",
   "metadata": {},
   "source": [
    "## Importing the dataset"
   ]
  },
  {
   "cell_type": "code",
   "execution_count": 2,
   "metadata": {},
   "outputs": [
    {
     "data": {
      "text/plain": [
       "dict_keys(['__header__', '__version__', '__globals__', 'CargaP', 'CargaQ', 'Ptrafo1', 'Ptrafo2', 'Tensao'])"
      ]
     },
     "execution_count": 2,
     "metadata": {},
     "output_type": "execute_result"
    }
   ],
   "source": [
    "net_result = loadmat('dataset/resultados_w1000pts.mat')\n",
    "ptrafo1 = pd.DataFrame(net_result['Ptrafo1'].transpose().flatten(), columns = ['Ptrafo1'])\n",
    "ptrafo2 = pd.DataFrame(net_result['Ptrafo2'].transpose().flatten(), columns = ['Ptrafo2'])"
   ]
  },
  {
   "cell_type": "code",
   "execution_count": 4,
   "metadata": {},
   "outputs": [],
   "source": [
    "fv = loadmat('dataset/FVcurves1000pts.mat')\n",
    "fv_12 = pd.DataFrame(fv['FV_w'].flatten(), columns = ['FV_12'])\n",
    "fv_18 = pd.DataFrame(fv['FV_w'].flatten(), columns = ['FV_18'])\n",
    "fv_25 = pd.DataFrame(fv['FV_w'].flatten(), columns = ['FV_25'])\n",
    "fv_29 = (1/47) * pd.DataFrame(fv['FV_w'].flatten(), columns = ['FV_29'])\n",
    "fv_32 = (1/42) * pd.DataFrame(fv['FV_w'].flatten(), columns = ['FV_32'])"
   ]
  },
  {
   "cell_type": "code",
   "execution_count": 5,
   "metadata": {},
   "outputs": [],
   "source": [
    "## Transforming vref to a (144000 x 1) matrix\n",
    "vref1 = np.zeros([144, 1000])\n",
    "vref2 = np.zeros([144, 1000])\n",
    "a = 0\n",
    "b = 25\n",
    "for i in range(144):\n",
    "  for j in range(len(net_result['Tensao'][0])):\n",
    "    vref1[i][j] = net_result['Tensao'][a][j]\n",
    "    vref2[i][j] = net_result['Tensao'][b][j]\n",
    "  a = a + 42\n",
    "  b = b + 42\n",
    "\n",
    "vref1 = pd.DataFrame(vref1.transpose().flatten(), columns = ['Vref1'])\n",
    "vref2 = pd.DataFrame(vref2.transpose().flatten(), columns = ['Vref2'])"
   ]
  },
  {
   "cell_type": "code",
   "execution_count": 6,
   "metadata": {},
   "outputs": [
    {
     "data": {
      "text/html": [
       "<div>\n",
       "<style scoped>\n",
       "    .dataframe tbody tr th:only-of-type {\n",
       "        vertical-align: middle;\n",
       "    }\n",
       "\n",
       "    .dataframe tbody tr th {\n",
       "        vertical-align: top;\n",
       "    }\n",
       "\n",
       "    .dataframe thead th {\n",
       "        text-align: right;\n",
       "    }\n",
       "</style>\n",
       "<table border=\"1\" class=\"dataframe\">\n",
       "  <thead>\n",
       "    <tr style=\"text-align: right;\">\n",
       "      <th></th>\n",
       "      <th>P1</th>\n",
       "      <th>P2</th>\n",
       "      <th>P3</th>\n",
       "      <th>P4</th>\n",
       "      <th>P5</th>\n",
       "      <th>P6</th>\n",
       "      <th>P7</th>\n",
       "      <th>P8</th>\n",
       "      <th>P9</th>\n",
       "      <th>P10</th>\n",
       "      <th>...</th>\n",
       "      <th>P32</th>\n",
       "      <th>P33</th>\n",
       "      <th>P34</th>\n",
       "      <th>P35</th>\n",
       "      <th>P36</th>\n",
       "      <th>P37</th>\n",
       "      <th>P38</th>\n",
       "      <th>P39</th>\n",
       "      <th>P40</th>\n",
       "      <th>P41</th>\n",
       "    </tr>\n",
       "  </thead>\n",
       "  <tbody>\n",
       "    <tr>\n",
       "      <th>0</th>\n",
       "      <td>0.009734</td>\n",
       "      <td>0.009834</td>\n",
       "      <td>0.012679</td>\n",
       "      <td>0.006414</td>\n",
       "      <td>0.005711</td>\n",
       "      <td>0.019901</td>\n",
       "      <td>0.020760</td>\n",
       "      <td>0.005586</td>\n",
       "      <td>0.005986</td>\n",
       "      <td>0.004578</td>\n",
       "      <td>...</td>\n",
       "      <td>0.000216</td>\n",
       "      <td>0.000265</td>\n",
       "      <td>0.005832</td>\n",
       "      <td>0.005882</td>\n",
       "      <td>0.006341</td>\n",
       "      <td>0.011216</td>\n",
       "      <td>0.020954</td>\n",
       "      <td>0.015683</td>\n",
       "      <td>0.021967</td>\n",
       "      <td>0.006054</td>\n",
       "    </tr>\n",
       "    <tr>\n",
       "      <th>1</th>\n",
       "      <td>0.008489</td>\n",
       "      <td>0.007609</td>\n",
       "      <td>0.011114</td>\n",
       "      <td>0.005427</td>\n",
       "      <td>0.005834</td>\n",
       "      <td>0.017792</td>\n",
       "      <td>0.018026</td>\n",
       "      <td>0.005269</td>\n",
       "      <td>0.005269</td>\n",
       "      <td>0.004023</td>\n",
       "      <td>...</td>\n",
       "      <td>0.000207</td>\n",
       "      <td>0.000234</td>\n",
       "      <td>0.005177</td>\n",
       "      <td>0.005416</td>\n",
       "      <td>0.005216</td>\n",
       "      <td>0.010498</td>\n",
       "      <td>0.017240</td>\n",
       "      <td>0.012633</td>\n",
       "      <td>0.018994</td>\n",
       "      <td>0.005212</td>\n",
       "    </tr>\n",
       "    <tr>\n",
       "      <th>2</th>\n",
       "      <td>0.008479</td>\n",
       "      <td>0.007208</td>\n",
       "      <td>0.011379</td>\n",
       "      <td>0.005166</td>\n",
       "      <td>0.005292</td>\n",
       "      <td>0.017040</td>\n",
       "      <td>0.016047</td>\n",
       "      <td>0.005139</td>\n",
       "      <td>0.005601</td>\n",
       "      <td>0.004228</td>\n",
       "      <td>...</td>\n",
       "      <td>0.000199</td>\n",
       "      <td>0.000231</td>\n",
       "      <td>0.005106</td>\n",
       "      <td>0.005556</td>\n",
       "      <td>0.005428</td>\n",
       "      <td>0.010461</td>\n",
       "      <td>0.018653</td>\n",
       "      <td>0.012739</td>\n",
       "      <td>0.018057</td>\n",
       "      <td>0.005326</td>\n",
       "    </tr>\n",
       "    <tr>\n",
       "      <th>3</th>\n",
       "      <td>0.008244</td>\n",
       "      <td>0.007869</td>\n",
       "      <td>0.009901</td>\n",
       "      <td>0.005009</td>\n",
       "      <td>0.004862</td>\n",
       "      <td>0.017293</td>\n",
       "      <td>0.016025</td>\n",
       "      <td>0.005315</td>\n",
       "      <td>0.004515</td>\n",
       "      <td>0.003550</td>\n",
       "      <td>...</td>\n",
       "      <td>0.000176</td>\n",
       "      <td>0.000234</td>\n",
       "      <td>0.004657</td>\n",
       "      <td>0.005174</td>\n",
       "      <td>0.004779</td>\n",
       "      <td>0.010133</td>\n",
       "      <td>0.016994</td>\n",
       "      <td>0.013142</td>\n",
       "      <td>0.016360</td>\n",
       "      <td>0.005020</td>\n",
       "    </tr>\n",
       "    <tr>\n",
       "      <th>4</th>\n",
       "      <td>0.007704</td>\n",
       "      <td>0.007068</td>\n",
       "      <td>0.010562</td>\n",
       "      <td>0.004872</td>\n",
       "      <td>0.004785</td>\n",
       "      <td>0.016108</td>\n",
       "      <td>0.016280</td>\n",
       "      <td>0.004854</td>\n",
       "      <td>0.004915</td>\n",
       "      <td>0.004148</td>\n",
       "      <td>...</td>\n",
       "      <td>0.000193</td>\n",
       "      <td>0.000227</td>\n",
       "      <td>0.005117</td>\n",
       "      <td>0.005032</td>\n",
       "      <td>0.004702</td>\n",
       "      <td>0.010507</td>\n",
       "      <td>0.016470</td>\n",
       "      <td>0.012441</td>\n",
       "      <td>0.018189</td>\n",
       "      <td>0.005102</td>\n",
       "    </tr>\n",
       "    <tr>\n",
       "      <th>...</th>\n",
       "      <td>...</td>\n",
       "      <td>...</td>\n",
       "      <td>...</td>\n",
       "      <td>...</td>\n",
       "      <td>...</td>\n",
       "      <td>...</td>\n",
       "      <td>...</td>\n",
       "      <td>...</td>\n",
       "      <td>...</td>\n",
       "      <td>...</td>\n",
       "      <td>...</td>\n",
       "      <td>...</td>\n",
       "      <td>...</td>\n",
       "      <td>...</td>\n",
       "      <td>...</td>\n",
       "      <td>...</td>\n",
       "      <td>...</td>\n",
       "      <td>...</td>\n",
       "      <td>...</td>\n",
       "      <td>...</td>\n",
       "      <td>...</td>\n",
       "    </tr>\n",
       "    <tr>\n",
       "      <th>143995</th>\n",
       "      <td>0.025086</td>\n",
       "      <td>0.023784</td>\n",
       "      <td>0.028559</td>\n",
       "      <td>0.014306</td>\n",
       "      <td>0.014914</td>\n",
       "      <td>0.050059</td>\n",
       "      <td>0.051772</td>\n",
       "      <td>0.015628</td>\n",
       "      <td>0.014343</td>\n",
       "      <td>0.012109</td>\n",
       "      <td>...</td>\n",
       "      <td>0.000572</td>\n",
       "      <td>0.000698</td>\n",
       "      <td>0.015604</td>\n",
       "      <td>0.015474</td>\n",
       "      <td>0.017490</td>\n",
       "      <td>0.028037</td>\n",
       "      <td>0.049220</td>\n",
       "      <td>0.034343</td>\n",
       "      <td>0.057983</td>\n",
       "      <td>0.015990</td>\n",
       "    </tr>\n",
       "    <tr>\n",
       "      <th>143996</th>\n",
       "      <td>0.020649</td>\n",
       "      <td>0.020129</td>\n",
       "      <td>0.028740</td>\n",
       "      <td>0.013905</td>\n",
       "      <td>0.012886</td>\n",
       "      <td>0.046503</td>\n",
       "      <td>0.046473</td>\n",
       "      <td>0.012015</td>\n",
       "      <td>0.013255</td>\n",
       "      <td>0.008957</td>\n",
       "      <td>...</td>\n",
       "      <td>0.000447</td>\n",
       "      <td>0.000611</td>\n",
       "      <td>0.013078</td>\n",
       "      <td>0.012686</td>\n",
       "      <td>0.012914</td>\n",
       "      <td>0.025388</td>\n",
       "      <td>0.043782</td>\n",
       "      <td>0.033284</td>\n",
       "      <td>0.046765</td>\n",
       "      <td>0.012852</td>\n",
       "    </tr>\n",
       "    <tr>\n",
       "      <th>143997</th>\n",
       "      <td>0.023419</td>\n",
       "      <td>0.021639</td>\n",
       "      <td>0.027228</td>\n",
       "      <td>0.013467</td>\n",
       "      <td>0.015262</td>\n",
       "      <td>0.050713</td>\n",
       "      <td>0.050593</td>\n",
       "      <td>0.014626</td>\n",
       "      <td>0.014748</td>\n",
       "      <td>0.011618</td>\n",
       "      <td>...</td>\n",
       "      <td>0.000494</td>\n",
       "      <td>0.000631</td>\n",
       "      <td>0.013512</td>\n",
       "      <td>0.013954</td>\n",
       "      <td>0.014343</td>\n",
       "      <td>0.027805</td>\n",
       "      <td>0.048484</td>\n",
       "      <td>0.037782</td>\n",
       "      <td>0.048746</td>\n",
       "      <td>0.014248</td>\n",
       "    </tr>\n",
       "    <tr>\n",
       "      <th>143998</th>\n",
       "      <td>0.016391</td>\n",
       "      <td>0.013969</td>\n",
       "      <td>0.019271</td>\n",
       "      <td>0.010247</td>\n",
       "      <td>0.009601</td>\n",
       "      <td>0.034645</td>\n",
       "      <td>0.032181</td>\n",
       "      <td>0.009958</td>\n",
       "      <td>0.009039</td>\n",
       "      <td>0.007356</td>\n",
       "      <td>...</td>\n",
       "      <td>0.000389</td>\n",
       "      <td>0.000410</td>\n",
       "      <td>0.009907</td>\n",
       "      <td>0.010678</td>\n",
       "      <td>0.008767</td>\n",
       "      <td>0.017730</td>\n",
       "      <td>0.036404</td>\n",
       "      <td>0.023869</td>\n",
       "      <td>0.037465</td>\n",
       "      <td>0.009715</td>\n",
       "    </tr>\n",
       "    <tr>\n",
       "      <th>143999</th>\n",
       "      <td>0.013937</td>\n",
       "      <td>0.013786</td>\n",
       "      <td>0.017540</td>\n",
       "      <td>0.009726</td>\n",
       "      <td>0.008647</td>\n",
       "      <td>0.030391</td>\n",
       "      <td>0.026751</td>\n",
       "      <td>0.009201</td>\n",
       "      <td>0.007875</td>\n",
       "      <td>0.006441</td>\n",
       "      <td>...</td>\n",
       "      <td>0.000338</td>\n",
       "      <td>0.000362</td>\n",
       "      <td>0.008551</td>\n",
       "      <td>0.008181</td>\n",
       "      <td>0.008191</td>\n",
       "      <td>0.018414</td>\n",
       "      <td>0.028201</td>\n",
       "      <td>0.022727</td>\n",
       "      <td>0.031700</td>\n",
       "      <td>0.008132</td>\n",
       "    </tr>\n",
       "  </tbody>\n",
       "</table>\n",
       "<p>144000 rows × 40 columns</p>\n",
       "</div>"
      ],
      "text/plain": [
       "              P1        P2        P3        P4        P5        P6        P7  \\\n",
       "0       0.009734  0.009834  0.012679  0.006414  0.005711  0.019901  0.020760   \n",
       "1       0.008489  0.007609  0.011114  0.005427  0.005834  0.017792  0.018026   \n",
       "2       0.008479  0.007208  0.011379  0.005166  0.005292  0.017040  0.016047   \n",
       "3       0.008244  0.007869  0.009901  0.005009  0.004862  0.017293  0.016025   \n",
       "4       0.007704  0.007068  0.010562  0.004872  0.004785  0.016108  0.016280   \n",
       "...          ...       ...       ...       ...       ...       ...       ...   \n",
       "143995  0.025086  0.023784  0.028559  0.014306  0.014914  0.050059  0.051772   \n",
       "143996  0.020649  0.020129  0.028740  0.013905  0.012886  0.046503  0.046473   \n",
       "143997  0.023419  0.021639  0.027228  0.013467  0.015262  0.050713  0.050593   \n",
       "143998  0.016391  0.013969  0.019271  0.010247  0.009601  0.034645  0.032181   \n",
       "143999  0.013937  0.013786  0.017540  0.009726  0.008647  0.030391  0.026751   \n",
       "\n",
       "              P8        P9       P10  ...       P32       P33       P34  \\\n",
       "0       0.005586  0.005986  0.004578  ...  0.000216  0.000265  0.005832   \n",
       "1       0.005269  0.005269  0.004023  ...  0.000207  0.000234  0.005177   \n",
       "2       0.005139  0.005601  0.004228  ...  0.000199  0.000231  0.005106   \n",
       "3       0.005315  0.004515  0.003550  ...  0.000176  0.000234  0.004657   \n",
       "4       0.004854  0.004915  0.004148  ...  0.000193  0.000227  0.005117   \n",
       "...          ...       ...       ...  ...       ...       ...       ...   \n",
       "143995  0.015628  0.014343  0.012109  ...  0.000572  0.000698  0.015604   \n",
       "143996  0.012015  0.013255  0.008957  ...  0.000447  0.000611  0.013078   \n",
       "143997  0.014626  0.014748  0.011618  ...  0.000494  0.000631  0.013512   \n",
       "143998  0.009958  0.009039  0.007356  ...  0.000389  0.000410  0.009907   \n",
       "143999  0.009201  0.007875  0.006441  ...  0.000338  0.000362  0.008551   \n",
       "\n",
       "             P35       P36       P37       P38       P39       P40       P41  \n",
       "0       0.005882  0.006341  0.011216  0.020954  0.015683  0.021967  0.006054  \n",
       "1       0.005416  0.005216  0.010498  0.017240  0.012633  0.018994  0.005212  \n",
       "2       0.005556  0.005428  0.010461  0.018653  0.012739  0.018057  0.005326  \n",
       "3       0.005174  0.004779  0.010133  0.016994  0.013142  0.016360  0.005020  \n",
       "4       0.005032  0.004702  0.010507  0.016470  0.012441  0.018189  0.005102  \n",
       "...          ...       ...       ...       ...       ...       ...       ...  \n",
       "143995  0.015474  0.017490  0.028037  0.049220  0.034343  0.057983  0.015990  \n",
       "143996  0.012686  0.012914  0.025388  0.043782  0.033284  0.046765  0.012852  \n",
       "143997  0.013954  0.014343  0.027805  0.048484  0.037782  0.048746  0.014248  \n",
       "143998  0.010678  0.008767  0.017730  0.036404  0.023869  0.037465  0.009715  \n",
       "143999  0.008181  0.008191  0.018414  0.028201  0.022727  0.031700  0.008132  \n",
       "\n",
       "[144000 rows x 40 columns]"
      ]
     },
     "execution_count": 6,
     "metadata": {},
     "output_type": "execute_result"
    }
   ],
   "source": [
    "## Loading the cargaP/Q to a (42 x 1000 x 144) matrix\n",
    "## 42 - buses, 1000 - samples, 144 timesteps\n",
    "cargaP = np.zeros([42, 1000, 144])\n",
    "cargaQ = np.zeros([42, 1000, 144])\n",
    "p = net_result['CargaP'].transpose()\n",
    "q = net_result['CargaQ'].transpose()\n",
    "\n",
    "for i in range(42):\n",
    "  for j in range(1000):\n",
    "    a = i\n",
    "    for k in range(144):\n",
    "      cargaP[i][j][k] = p[j][a]\n",
    "      cargaQ[i][j][k] = q[j][a]\n",
    "      a = a + 42\n",
    "\n",
    "## Creating a averageP/Q array of (144 x 42) by taking the mean value of all 1000 samples\n",
    "## Repeating it 1000 times to match the 144000 samples of the cargaP/Q array\n",
    "## Droping the 0th and 25th powers because this represents the transformer reference values\n",
    "avgP = cargaP.mean(axis=1)\n",
    "avgQ = cargaQ.mean(axis=1)\n",
    "\n",
    "avgP = pd.DataFrame(avgP.transpose())\n",
    "avgP  = pd.concat([avgP]*1000, ignore_index=True)\n",
    "avgP.columns = [f'P{col_name}' for col_name in avgP.columns]\n",
    "avgP = avgP.drop(['P0','P25'], axis=1)\n",
    "\n",
    "avgQ = pd.DataFrame(avgQ.transpose())\n",
    "avgQ  = pd.concat([avgQ]*1000, ignore_index=True)\n",
    "avgQ.columns = [f'Q{col_name}' for col_name in avgQ.columns]\n",
    "avgQ = avgQ.drop(['Q0','Q25'], axis=1)\n",
    "\n",
    "## Reshaping the original array(42x1000x144) to (42x14000) and transposing it,\n",
    "## so the columns represent the buses\n",
    "cargaP = pd.DataFrame(cargaP.reshape(42,144000).transpose())\n",
    "cargaP.columns = [f'P{col_name}' for col_name in cargaP.columns]\n",
    "cargaP = cargaP.drop(['P0','P25'], axis=1)\n",
    "\n",
    "cargaQ = pd.DataFrame(cargaQ.reshape(42,144000).transpose())\n",
    "cargaQ.columns = [f'Q{col_name}' for col_name in cargaQ.columns]\n",
    "cargaQ = cargaQ.drop(['Q0','Q25'], axis=1)\n",
    "\n",
    "cargaP\n",
    "\n"
   ]
  },
  {
   "cell_type": "code",
   "execution_count": 7,
   "metadata": {},
   "outputs": [],
   "source": [
    "## Creating the imput arrays for train and validation\n",
    "## X - train set\n",
    "## X2 - validation set\n",
    "X = pd.concat([vref1, vref2, fv_12, fv_18, fv_25, fv_29, fv_32, ptrafo1, ptrafo2, cargaP, cargaQ], axis=1)\n",
    "X = X.iloc[30000:,:]\n",
    "\n",
    "X2 = pd.concat([vref1, vref2, fv_12, fv_18, fv_25, fv_29, fv_32, ptrafo1, ptrafo2, avgP, avgQ], axis=1)\n",
    "X2 = X2.iloc[:30000,:]\n",
    "\n",
    "# X2"
   ]
  },
  {
   "cell_type": "code",
   "execution_count": 5,
   "metadata": {},
   "outputs": [],
   "source": [
    "## Importing the Voltage measuraments to be fed into output array\n",
    "## Loading the Voltages to a (42 x 1000 x 144) array\n",
    "## 42 - buses, 1000 - samples, 144 timesteps\n",
    "tensao = np.zeros([42, 1000, 144])\n",
    "t = net_result['Tensao'].transpose()\n",
    "\n",
    "for i in range(42):\n",
    "  for j in range(1000):\n",
    "    a = i\n",
    "    for k in range(144):\n",
    "      tensao[i][j][k] = t[j][a]\n",
    "      a = a + 42\n",
    "\n",
    "## Reshaping the original array(42x1000x144) to (42x14000) and transposing it,\n",
    "## so the columns represent the buses\n",
    "tensao = pd.DataFrame(tensao.reshape(42,144000).transpose())\n",
    "\n",
    "## Creating the output arrays for train and validantion, and droping the reference(trafo) buses\n",
    "## Y - train set\n",
    "## Y2 - validation set\n",
    "Y = tensao.drop([0,25], axis=1)\n",
    "Y2 = Y.iloc[:30000,:]\n",
    "Y = Y.iloc[30000:,:]\n",
    "# Y\n"
   ]
  },
  {
   "cell_type": "code",
   "execution_count": 18,
   "metadata": {},
   "outputs": [],
   "source": [
    "## Spliting the train dataset into train and test data\n",
    "X_train, X_eval, y_train, y_eval = train_test_split(X,Y,test_size=0.3,random_state=101)\n",
    "# X_train, X_eval, y_train, y_eval = train_test_split(X_train,y_train,test_size=0.25,random_state=55)"
   ]
  },
  {
   "cell_type": "code",
   "execution_count": 19,
   "metadata": {},
   "outputs": [
    {
     "data": {
      "text/plain": [
       "(79800, 89)"
      ]
     },
     "execution_count": 19,
     "metadata": {},
     "output_type": "execute_result"
    }
   ],
   "source": [
    "## Scaling the input array\n",
    "from sklearn.preprocessing import MinMaxScaler\n",
    "scaler = MinMaxScaler()\n",
    "X_train= scaler.fit_transform(X_train)\n",
    "X_eval = scaler.transform(X_eval)\n",
    "X2 = scaler.transform(X2)\n",
    "X_train.shape"
   ]
  },
  {
   "cell_type": "code",
   "execution_count": 13,
   "metadata": {},
   "outputs": [],
   "source": [
    "from tensorflow.keras.models import Sequential, load_model\n",
    "from tensorflow.keras.layers import Dense, Activation\n",
    "from tensorflow.keras.optimizers import Adam"
   ]
  },
  {
   "cell_type": "code",
   "execution_count": 13,
   "metadata": {},
   "outputs": [],
   "source": [
    "batch_size = 150\n",
    "epochs = 100\n",
    "input_nodes = 89\n",
    "hidden_nodes = 190\n",
    "output_nodes = 40\n",
    "optimizer = 'adam'\n",
    "activation = 'relu'"
   ]
  },
  {
   "cell_type": "code",
   "execution_count": 14,
   "metadata": {},
   "outputs": [],
   "source": [
    "## Creating the model\n",
    "model = Sequential()\n",
    "\n",
    "model.add(Dense(input_nodes,activation='relu'))\n",
    "model.add(Dense(hidden_nodes,activation='relu'))\n",
    "model.add(Dense(output_nodes))\n",
    "\n",
    "model.compile(optimizer=optimizer,loss='mae', metrics=['accuracy', 'MAE', 'MSE'])"
   ]
  },
  {
   "cell_type": "markdown",
   "metadata": {},
   "source": [
    "### Training"
   ]
  },
  {
   "cell_type": "code",
   "execution_count": null,
   "metadata": {},
   "outputs": [],
   "source": [
    "with experiment.train():\n",
    "    history = model.fit(x=X_train,y=y_train.values,\n",
    "            validation_data=(X_eval,y_eval.values),\n",
    "            batch_size=batch_size,epochs=epochs)"
   ]
  },
  {
   "cell_type": "code",
   "execution_count": 16,
   "metadata": {},
   "outputs": [],
   "source": [
    "with experiment.test():    \n",
    "    loss, accuracy, mae, mse = model.evaluate(X_eval, y_eval, verbose=0)\n",
    "    metrics = {\n",
    "        'loss':loss,\n",
    "        'accuracy':accuracy,\n",
    "        'mae':mae,\n",
    "        'mse':mse\n",
    "    }\n",
    "    experiment.log_metrics(metrics)"
   ]
  },
  {
   "cell_type": "code",
   "execution_count": null,
   "metadata": {},
   "outputs": [],
   "source": [
    "params={'batch_size':batch_size,\n",
    "        'epochs':epochs,\n",
    "        'layer_type':'Dense',\n",
    "        'input_layer_nodes':input_nodes,\n",
    "        'layer_activation':activation,\n",
    "        'hidden_layer_nodes':hidden_nodes,\n",
    "        'output_layer_nodes':output_nodes,\n",
    "        'optimizer':optimizer\n",
    "}\n",
    "experiment.log_metrics(params)\n",
    "\n",
    "experiment.end()"
   ]
  },
  {
   "cell_type": "markdown",
   "metadata": {},
   "source": [
    "### Losses"
   ]
  },
  {
   "cell_type": "code",
   "execution_count": 18,
   "metadata": {},
   "outputs": [
    {
     "data": {
      "text/plain": [
       "<AxesSubplot:>"
      ]
     },
     "execution_count": 18,
     "metadata": {},
     "output_type": "execute_result"
    },
    {
     "data": {
      "image/png": "[encoded data removed]",
      "text/plain": [
       "<Figure size 432x288 with 1 Axes>"
      ]
     },
     "metadata": {
      "needs_background": "light"
     },
     "output_type": "display_data"
    }
   ],
   "source": [
    "losses = pd.DataFrame(history.history)\n",
    "losses.plot()"
   ]
  },
  {
   "cell_type": "markdown",
   "metadata": {},
   "source": [
    "### Evaluation on Test Data"
   ]
  },
  {
   "cell_type": "code",
   "execution_count": 10,
   "metadata": {},
   "outputs": [],
   "source": [
    "from sklearn.metrics import mean_squared_error,mean_absolute_error,explained_variance_score"
   ]
  },
  {
   "cell_type": "code",
   "execution_count": 20,
   "metadata": {},
   "outputs": [
    {
     "name": "stdout",
     "output_type": "stream",
     "text": [
      "Mean Absolute Error: 0.0014744288347013617\n",
      "Mean Squared Error: 0.001763466925496826\n"
     ]
    }
   ],
   "source": [
    "predictions = model.predict(X2)\n",
    "\n",
    "print(f\"Mean Absolute Error: {mean_absolute_error(Y2.values,predictions)}\")\n",
    "print(f\"Mean Squared Error: {np.sqrt(mean_squared_error(Y2.values,predictions))}\")\n"
   ]
  },
  {
   "cell_type": "code",
   "execution_count": 44,
   "metadata": {},
   "outputs": [
    {
     "name": "stdout",
     "output_type": "stream",
     "text": [
      "(30000, 40) <class 'pandas.core.frame.DataFrame'>\n",
      "(144,)\n",
      "(30000, 40) <class 'numpy.ndarray'>\n",
      "(30000,)\n"
     ]
    },
    {
     "data": {
      "text/plain": [
       "numpy.ndarray"
      ]
     },
     "execution_count": 44,
     "metadata": {},
     "output_type": "execute_result"
    }
   ],
   "source": [
    "print(Y2.shape,type(Y2))\n",
    "print(np.shape(Y2[10][0:144]))\n",
    "print(predictions.shape, type(predictions))\n",
    "print(np.shape(predictions[: , 10]))\n",
    "type(Y2.values)"
   ]
  },
  {
   "cell_type": "code",
   "execution_count": 56,
   "metadata": {},
   "outputs": [],
   "source": [
    "for i in [5,22,65,100,200]:\n",
    "    t = np.arange(144)\n",
    "    bar = 5\n",
    "    plt.figure(figsize = (13,4.5), dpi = 300)\n",
    "    plt.plot(t,predictions[(i*144):((i*144)+144), bar], 'y', label = 'Predictions')\n",
    "    plt.plot(t,Y2.values[(i*144):((i*144)+144), bar], 'r', label = 'Dataset')\n",
    "    plt.show\n",
    "    plt.xticks(np.arange(0, 145, 12), ('0h', '2h', '4h', '6h', '8h', '10h', '12h', '14h','16h', '18h', '20h', '22h', '24h'))\n",
    "    plt.ylim(0.99, 1.05)\n",
    "    plt.title(f'Voltage Bar{bar} - Day {i} - With P/Q as Input')\n",
    "    plt.legend(loc='upper right', prop={'size': 10}, framealpha=1)\n",
    "    plt.savefig(f\"Bar{bar}/Voltage_Bar{bar}_Day{i}_PQ.jpg\")\n",
    "    plt.close()\n"
   ]
  },
  {
   "cell_type": "code",
   "execution_count": 24,
   "metadata": {},
   "outputs": [],
   "source": [
    "date = datetime.now().strftime('%d_%m-%H_%M')\n",
    "model.save(f'70train_150batch_100epochs_{date}.h5')\n"
   ]
  },
  {
   "cell_type": "code",
   "execution_count": 14,
   "metadata": {},
   "outputs": [
    {
     "name": "stdout",
     "output_type": "stream",
     "text": [
      "Model: \"sequential\"\n",
      "_________________________________________________________________\n",
      "Layer (type)                 Output Shape              Param #   \n",
      "=================================================================\n",
      "dense (Dense)                (None, 89)                8010      \n",
      "_________________________________________________________________\n",
      "dense_1 (Dense)              (None, 190)               17100     \n",
      "_________________________________________________________________\n",
      "dense_2 (Dense)              (None, 40)                7640      \n",
      "=================================================================\n",
      "Total params: 32,750\n",
      "Trainable params: 32,750\n",
      "Non-trainable params: 0\n",
      "_________________________________________________________________\n"
     ]
    }
   ],
   "source": [
    "model = load_model('70train_150batch_100epochs.h5')\n",
    "\n",
    "# Check its architecture\n",
    "model.summary()"
   ]
  }
 ],
 "metadata": {
  "interpreter": {
   "hash": "e91837a7a7811ce1baba58a337e6c2f9326166ec5011331d40c820304c9c4380"
  },
  "kernelspec": {
   "display_name": "Python 3.9.7 ('nn')",
   "language": "python",
   "name": "python3"
  },
  "language_info": {
   "codemirror_mode": {
    "name": "ipython",
    "version": 3
   },
   "file_extension": ".py",
   "mimetype": "text/x-python",
   "name": "python",
   "nbconvert_exporter": "python",
   "pygments_lexer": "ipython3",
   "version": "3.9.7"
  },
  "orig_nbformat": 4
 },
 "nbformat": 4,
 "nbformat_minor": 2
}
