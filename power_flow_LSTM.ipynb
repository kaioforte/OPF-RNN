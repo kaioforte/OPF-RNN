{
  "nbformat": 4,
  "nbformat_minor": 0,
  "metadata": {
    "colab": {
      "name": "power_flow_LSTM.ipynb",
      "provenance": [],
      "toc_visible": true,
      "authorship_tag": "ABX9TyPMbVD9afpiQF1AaF4z6+fr",
      "include_colab_link": true
    },
    "kernelspec": {
      "name": "python3",
      "display_name": "Python 3"
    },
    "language_info": {
      "name": "python"
    }
  },
  "cells": [
    {
      "cell_type": "markdown",
      "metadata": {
        "id": "view-in-github",
        "colab_type": "text"
      },
      "source": [
        "<a href=\"https://colab.research.google.com/github/kaioforte/OPF-RNN/blob/main/power_flow_LSTM.ipynb\" target=\"_parent\"><img src=\"https://colab.research.google.com/assets/colab-badge.svg\" alt=\"Open In Colab\"/></a>"
      ]
    },
    {
      "cell_type": "code",
      "execution_count": 1,
      "metadata": {
        "id": "C1vmmu33-DW8"
      },
      "outputs": [],
      "source": [
        "import scipy.io"
      ]
    },
    {
      "cell_type": "code",
      "source": [
        "mat = scipy.io.loadmat('file.mat')"
      ],
      "metadata": {
        "id": "zXY9Eshx-Skq"
      },
      "execution_count": null,
      "outputs": []
    }
  ]
}