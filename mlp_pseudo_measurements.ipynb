{
 "cells": [
  {
   "cell_type": "code",
   "execution_count": 1,
   "metadata": {},
   "outputs": [],
   "source": [
    "import pandas as pd\n",
    "import numpy as np\n",
    "import matplotlib.pyplot as plt\n",
    "from datetime import datetime\n",
    "\n",
    "# # Para deixar os plots brancos\n",
    "# params = {\"ytick.color\" : \"w\",\n",
    "#           \"xtick.color\" : \"w\",\n",
    "#           \"axes.titlecolor\" : \"w\",\n",
    "#           \"axes.labelcolor\" : \"w\",\n",
    "#           \"axes.edgecolor\" : \"w\"}\n",
    "# plt.rcParams.update(params)"
   ]
  },
  {
   "cell_type": "code",
   "execution_count": 2,
   "metadata": {},
   "outputs": [
    {
     "name": "stderr",
     "output_type": "stream",
     "text": [
      "COMET WARNING: As you are running in a Jupyter environment, you will need to call `experiment.end()` when finished to ensure all metrics and code are logged before exiting.\n",
      "COMET INFO: Experiment is live on comet.ml https://www.comet.com/kaioforte/mlp-pseudomeasurements/77618269d9864d44945baec5b27c8048\n",
      "\n"
     ]
    }
   ],
   "source": [
    "# ## Create an experiment with your api key\n",
    "# experiment = Experiment(\n",
    "#     api_key=\"Q5t8ZJ5IC5PvHbwAugI7xihW4\",\n",
    "#     project_name=\"mlp-pseudomeasurements\",\n",
    "#     workspace=\"kaioforte\",\n",
    "#     auto_histogram_weight_logging=True,\n",
    "#     auto_histogram_gradient_logging=True,\n",
    "#     auto_histogram_activation_logging=True,\n",
    "# )"
   ]
  },
  {
   "cell_type": "code",
   "execution_count": 2,
   "metadata": {},
   "outputs": [],
   "source": [
    "net_result = np.load('dataset/MC_Simulation_std_025_samples_1000_01_09-21_19.npz')\n",
    "# net_result = loadmat('dataset/resultados_w1000pts.mat')\n",
    "ptrafo1 = pd.DataFrame(net_result['p_trafo1'], columns = ['Ptrafo1'])\n",
    "ptrafo2 = pd.DataFrame(net_result['p_trafo2'], columns = ['Ptrafo2'])\n",
    "\n",
    "demand_p = pd.DataFrame(net_result['demand_p'])\n",
    "demand_p.columns = [f'P{col_name}' for col_name in demand_p.columns]\n",
    "demand_p = demand_p.drop(['P0','P25'], axis=1)\n",
    "\n",
    "demand_q = pd.DataFrame(net_result['demand_q'])\n",
    "demand_q.columns = [f'Q{col_name}' for col_name in demand_q.columns]\n",
    "demand_q = demand_q.drop(['Q0','Q25'], axis=1)\n",
    "\n",
    "voltages = pd.DataFrame(net_result['voltages'])\n",
    "\n",
    "vref1 = voltages.iloc[:, 0]\n",
    "vref2 = voltages.iloc[:, 25]"
   ]
  },
  {
   "cell_type": "code",
   "execution_count": 3,
   "metadata": {},
   "outputs": [],
   "source": [
    "## Creating a averageP/Q array of (144 x 42) by taking the mean value of all 1000 samples\n",
    "## Repeating it 1000 times to match the 144000 samples of the cargaP/Q array\n",
    "## Droping the 0th and 25th powers because this represents the transformer reference values\n",
    "avgP = net_result['demand_p'].reshape(144,1000,42).mean(axis=1)\n",
    "avgQ = net_result['demand_q'].reshape(144,1000,42).mean(axis=1)\n",
    "\n",
    "avgP = pd.DataFrame(avgP)\n",
    "avgP  = pd.concat([avgP]*1000, ignore_index=True)\n",
    "avgP.columns = [f'P{col_name}' for col_name in avgP.columns]\n",
    "avgP = avgP.drop(['P0','P25'], axis=1)\n",
    "\n",
    "avgQ = pd.DataFrame(avgQ)\n",
    "avgQ  = pd.concat([avgQ]*1000, ignore_index=True)\n",
    "avgQ.columns = [f'Q{col_name}' for col_name in avgQ.columns]\n",
    "avgQ = avgQ.drop(['Q0','Q25'], axis=1)"
   ]
  },
  {
   "cell_type": "code",
   "execution_count": 4,
   "metadata": {},
   "outputs": [],
   "source": [
    "pv = np.load('dataset/PV_Curves_1000_Samples_01_09-23_31.npz')\n",
    "\n",
    "pv_12 = pd.DataFrame(pv['PV_w'].flatten(), columns = ['pv_12'])\n",
    "pv_18 = pd.DataFrame(pv['PV_w'].flatten(), columns = ['pv_18'])\n",
    "pv_25 = pd.DataFrame(pv['PV_w'].flatten(), columns = ['pv_25'])\n",
    "pv_29 = (1/47) * pd.DataFrame(pv['PV_w'].flatten(), columns = ['pv_29'])\n",
    "pv_32 = (1/42) * pd.DataFrame(pv['PV_w'].flatten(), columns = ['pv_32'])"
   ]
  },
  {
   "cell_type": "code",
   "execution_count": 5,
   "metadata": {},
   "outputs": [],
   "source": [
    "## Creating the input arrays for train and test\n",
    "## X - train set 70%\n",
    "## X_test - test set 30%\n",
    "\n",
    "X = pd.concat([vref1, vref2, pv_12, pv_18, pv_25, pv_29, pv_32, ptrafo1, ptrafo2, avgP, avgQ], axis=1)\n",
    "X.rename(columns = {0:'V0', 25:'V25'}, inplace = True)\n",
    "\n",
    "# # Removing features that don't change\n",
    "# features_to_drop = X.nunique()\n",
    "# features_to_drop = features_to_drop.loc[features_to_drop.values==1].index\n",
    "\n",
    "# X = X.drop(features_to_drop,axis=1)\n",
    "\n",
    "X = X.iloc[43200:,:]\n",
    "X_test = X.iloc[:43200,:]\n"
   ]
  },
  {
   "cell_type": "code",
   "execution_count": 6,
   "metadata": {},
   "outputs": [],
   "source": [
    "voltage_columns = ['V0', 'V25']\n",
    "active_power_columns = ['pv_12', 'pv_18', 'pv_25', 'pv_29', 'pv_32', 'Ptrafo1',\n",
    "       'Ptrafo2', 'P1', 'P2', 'P3', 'P4', 'P5', 'P6', 'P7', 'P8', 'P9', 'P10',\n",
    "       'P11', 'P12', 'P13', 'P14', 'P15', 'P16', 'P17', 'P18', 'P19', 'P20',\n",
    "       'P21', 'P22', 'P23', 'P24', 'P26', 'P27', 'P28', 'P29', 'P30', 'P31',\n",
    "       'P32', 'P33', 'P34', 'P35', 'P36', 'P37', 'P38', 'P39', 'P40', 'P41']\n",
    "reactive_power_columns = ['Q1', 'Q2', 'Q3', 'Q4', 'Q5', 'Q6', 'Q7', 'Q8', 'Q9', 'Q10', 'Q11',\n",
    "       'Q12', 'Q13', 'Q14', 'Q15', 'Q16', 'Q17', 'Q18', 'Q19', 'Q20', 'Q21',\n",
    "       'Q22', 'Q23', 'Q24', 'Q26', 'Q27', 'Q28', 'Q29', 'Q30', 'Q31', 'Q32',\n",
    "       'Q33', 'Q34', 'Q35', 'Q36', 'Q37', 'Q38', 'Q39', 'Q40', 'Q41']"
   ]
  },
  {
   "cell_type": "code",
   "execution_count": 7,
   "metadata": {},
   "outputs": [],
   "source": [
    "## Creating the output arrays for train and test, and droping the reference(trafo) buses\n",
    "## Y - train set\n",
    "## y_test - test set\n",
    "Y = voltages.drop([0,25], axis=1)\n",
    "y_test = Y.iloc[:43200,:]\n",
    "Y = Y.iloc[43200:,:]\n"
   ]
  },
  {
   "cell_type": "code",
   "execution_count": 8,
   "metadata": {},
   "outputs": [],
   "source": [
    "from sklearn.model_selection import train_test_split\n",
    "\n",
    "## Spliting the train dataset into train and validation data\n",
    "X_train, X_eval, y_train, y_eval = train_test_split(X,Y,test_size=0.3,random_state=101)"
   ]
  },
  {
   "cell_type": "code",
   "execution_count": 9,
   "metadata": {},
   "outputs": [
    {
     "name": "stderr",
     "output_type": "stream",
     "text": [
      "C:\\Users\\kaioh\\AppData\\Local\\Temp\\ipykernel_17108\\2310833314.py:7: SettingWithCopyWarning: \n",
      "A value is trying to be set on a copy of a slice from a DataFrame\n",
      "\n",
      "See the caveats in the documentation: https://pandas.pydata.org/pandas-docs/stable/user_guide/indexing.html#returning-a-view-versus-a-copy\n",
      "  X_test.loc[:, voltage_columns] = voltage_scaler.transform(X_test.loc[:, voltage_columns])\n",
      "C:\\Users\\kaioh\\AppData\\Local\\Temp\\ipykernel_17108\\2310833314.py:12: SettingWithCopyWarning: \n",
      "A value is trying to be set on a copy of a slice from a DataFrame\n",
      "\n",
      "See the caveats in the documentation: https://pandas.pydata.org/pandas-docs/stable/user_guide/indexing.html#returning-a-view-versus-a-copy\n",
      "  X_test.loc[:, active_power_columns] = active_power_scaler.transform(X_test.loc[:, active_power_columns])\n",
      "C:\\Users\\kaioh\\AppData\\Local\\Temp\\ipykernel_17108\\2310833314.py:17: SettingWithCopyWarning: \n",
      "A value is trying to be set on a copy of a slice from a DataFrame\n",
      "\n",
      "See the caveats in the documentation: https://pandas.pydata.org/pandas-docs/stable/user_guide/indexing.html#returning-a-view-versus-a-copy\n",
      "  X_test.loc[:, reactive_power_columns] = reactive_power_scaler.transform(X_test.loc[:, reactive_power_columns])\n"
     ]
    }
   ],
   "source": [
    "from sklearn.preprocessing import MinMaxScaler, StandardScaler\n",
    "\n",
    "## Scaling the input array\n",
    "voltage_scaler = MinMaxScaler()\n",
    "X_train.loc[:, voltage_columns] = voltage_scaler.fit_transform(X_train.loc[:, voltage_columns])\n",
    "X_eval.loc[:, voltage_columns] = voltage_scaler.transform(X_eval.loc[:, voltage_columns])\n",
    "X_test.loc[:, voltage_columns] = voltage_scaler.transform(X_test.loc[:, voltage_columns])\n",
    "\n",
    "active_power_scaler = MinMaxScaler()\n",
    "X_train.loc[:, active_power_columns] = active_power_scaler.fit_transform(X_train.loc[:, active_power_columns])\n",
    "X_eval.loc[:, active_power_columns] = active_power_scaler.transform(X_eval.loc[:, active_power_columns])\n",
    "X_test.loc[:, active_power_columns] = active_power_scaler.transform(X_test.loc[:, active_power_columns])\n",
    "\n",
    "reactive_power_scaler = MinMaxScaler()\n",
    "X_train.loc[:, reactive_power_columns] = reactive_power_scaler.fit_transform(X_train.loc[:, reactive_power_columns])\n",
    "X_eval.loc[:, reactive_power_columns] = reactive_power_scaler.transform(X_eval.loc[:, reactive_power_columns])\n",
    "X_test.loc[:, reactive_power_columns] = reactive_power_scaler.transform(X_test.loc[:, reactive_power_columns])\n"
   ]
  },
  {
   "cell_type": "code",
   "execution_count": 10,
   "metadata": {},
   "outputs": [],
   "source": [
    "from tensorflow.keras.models import Sequential\n",
    "from tensorflow.keras.layers import Dense, Dropout\n",
    "from tensorflow.keras.optimizers import SGD, Adam\n",
    "\n",
    "batch_size = 70\n",
    "epochs = 150\n",
    "\n",
    "## Creating the model\n",
    "model = Sequential()\n",
    "\n",
    "model.add(Dense(units=200, activation='linear', input_shape=(X_train.shape[-1],)))\n",
    "model.add(Dense(units=400, activation='linear'))\n",
    "model.add(Dropout(rate=0.2))\n",
    "model.add(Dense(units=100, activation='linear'))\n",
    "model.add(Dropout(rate=0.2))\n",
    "model.add(Dense(units=40, activation='relu'))\n",
    "\n",
    "model.compile(optimizer=Adam(), loss='mse', metrics=['MAE'])"
   ]
  },
  {
   "cell_type": "code",
   "execution_count": 11,
   "metadata": {},
   "outputs": [],
   "source": [
    "from tensorflow.keras.callbacks import EarlyStopping\n",
    "\n",
    "# Early stopping monitorando a Validation Loss\n",
    "early_stopping = EarlyStopping(\n",
    "    monitor=\"loss\",\n",
    "    min_delta = 0.0001, # Valor mínimo de mudança para considerar como melhoria\n",
    "    patience  = 20,     # Quantas épocas esperar até parar\n",
    "    mode = 'auto',\n",
    "    restore_best_weights=True\n",
    ")"
   ]
  },
  {
   "cell_type": "code",
   "execution_count": 12,
   "metadata": {},
   "outputs": [
    {
     "name": "stdout",
     "output_type": "stream",
     "text": [
      "Epoch 1/150\n",
      "1008/1008 [==============================] - 4s 3ms/step - loss: 0.0217 - MAE: 0.0994 - val_loss: 2.8715e-04 - val_MAE: 0.0136\n",
      "Epoch 2/150\n",
      "1008/1008 [==============================] - 9s 9ms/step - loss: 0.0030 - MAE: 0.0436 - val_loss: 1.0600e-04 - val_MAE: 0.0082\n",
      "Epoch 3/150\n",
      "1008/1008 [==============================] - 3s 3ms/step - loss: 0.0017 - MAE: 0.0329 - val_loss: 8.7704e-05 - val_MAE: 0.0075\n",
      "Epoch 4/150\n",
      "1008/1008 [==============================] - 3s 3ms/step - loss: 0.0010 - MAE: 0.0255 - val_loss: 3.7847e-05 - val_MAE: 0.0048\n",
      "Epoch 5/150\n",
      "1008/1008 [==============================] - 3s 3ms/step - loss: 5.8024e-04 - MAE: 0.0191 - val_loss: 6.9214e-05 - val_MAE: 0.0071\n",
      "Epoch 6/150\n",
      "1008/1008 [==============================] - 3s 3ms/step - loss: 2.8918e-04 - MAE: 0.0134 - val_loss: 1.3385e-05 - val_MAE: 0.0029\n",
      "Epoch 7/150\n",
      "1008/1008 [==============================] - 3s 3ms/step - loss: 1.1735e-04 - MAE: 0.0085 - val_loss: 5.4325e-06 - val_MAE: 0.0018\n",
      "Epoch 8/150\n",
      "1008/1008 [==============================] - 3s 3ms/step - loss: 3.9846e-05 - MAE: 0.0049 - val_loss: 3.5856e-06 - val_MAE: 0.0014\n",
      "Epoch 9/150\n",
      "1008/1008 [==============================] - 3s 3ms/step - loss: 1.1891e-05 - MAE: 0.0026 - val_loss: 1.7942e-06 - val_MAE: 9.1310e-04\n",
      "Epoch 10/150\n",
      "1008/1008 [==============================] - 3s 3ms/step - loss: 5.4803e-06 - MAE: 0.0017 - val_loss: 1.5914e-06 - val_MAE: 8.4357e-04\n",
      "Epoch 11/150\n",
      "1008/1008 [==============================] - 3s 3ms/step - loss: 4.5239e-06 - MAE: 0.0016 - val_loss: 1.7190e-06 - val_MAE: 8.6682e-04\n",
      "Epoch 12/150\n",
      "1008/1008 [==============================] - 3s 3ms/step - loss: 4.3740e-06 - MAE: 0.0015 - val_loss: 3.2432e-06 - val_MAE: 0.0014\n",
      "Epoch 13/150\n",
      "1008/1008 [==============================] - 3s 3ms/step - loss: 3.6848e-06 - MAE: 0.0014 - val_loss: 2.4808e-06 - val_MAE: 0.0011\n",
      "Epoch 14/150\n",
      "1008/1008 [==============================] - 3s 3ms/step - loss: 3.1794e-06 - MAE: 0.0012 - val_loss: 1.5121e-06 - val_MAE: 7.9474e-04\n",
      "Epoch 15/150\n",
      "1008/1008 [==============================] - 3s 3ms/step - loss: 3.0498e-06 - MAE: 0.0012 - val_loss: 1.9608e-06 - val_MAE: 9.5905e-04\n",
      "Epoch 16/150\n",
      "1008/1008 [==============================] - 3s 3ms/step - loss: 2.9449e-06 - MAE: 0.0012 - val_loss: 2.1632e-06 - val_MAE: 0.0011\n",
      "Epoch 17/150\n",
      "1008/1008 [==============================] - 3s 3ms/step - loss: 3.2156e-06 - MAE: 0.0012 - val_loss: 1.4265e-06 - val_MAE: 7.7196e-04\n",
      "Epoch 18/150\n",
      "1008/1008 [==============================] - 3s 3ms/step - loss: 3.1257e-06 - MAE: 0.0012 - val_loss: 1.7923e-06 - val_MAE: 9.4019e-04\n",
      "Epoch 19/150\n",
      "1008/1008 [==============================] - 3s 3ms/step - loss: 3.1112e-06 - MAE: 0.0012 - val_loss: 1.8340e-06 - val_MAE: 0.0010\n",
      "Epoch 20/150\n",
      "1008/1008 [==============================] - 3s 3ms/step - loss: 3.1128e-06 - MAE: 0.0012 - val_loss: 2.5991e-06 - val_MAE: 0.0012\n",
      "Epoch 21/150\n",
      "1008/1008 [==============================] - 3s 3ms/step - loss: 2.9390e-06 - MAE: 0.0012 - val_loss: 2.3140e-06 - val_MAE: 0.0011\n",
      "Epoch 22/150\n",
      "1008/1008 [==============================] - 3s 3ms/step - loss: 2.8849e-06 - MAE: 0.0012 - val_loss: 1.4847e-06 - val_MAE: 8.5397e-04\n",
      "Epoch 23/150\n",
      "1008/1008 [==============================] - 3s 3ms/step - loss: 2.9384e-06 - MAE: 0.0012 - val_loss: 2.2134e-06 - val_MAE: 0.0011\n",
      "Epoch 24/150\n",
      "1008/1008 [==============================] - 3s 3ms/step - loss: 2.9420e-06 - MAE: 0.0012 - val_loss: 1.3090e-06 - val_MAE: 7.6027e-04\n",
      "Epoch 25/150\n",
      "1008/1008 [==============================] - 3s 3ms/step - loss: 2.7214e-06 - MAE: 0.0011 - val_loss: 1.4582e-06 - val_MAE: 8.1202e-04\n",
      "Epoch 26/150\n",
      "1008/1008 [==============================] - 3s 3ms/step - loss: 2.8210e-06 - MAE: 0.0012 - val_loss: 1.7738e-06 - val_MAE: 8.4225e-04\n",
      "Epoch 27/150\n",
      "1008/1008 [==============================] - 3s 3ms/step - loss: 2.8306e-06 - MAE: 0.0012 - val_loss: 1.2658e-06 - val_MAE: 7.2726e-04\n",
      "Epoch 28/150\n",
      "1008/1008 [==============================] - 3s 3ms/step - loss: 2.6477e-06 - MAE: 0.0011 - val_loss: 1.2518e-06 - val_MAE: 7.2356e-04\n",
      "Epoch 29/150\n",
      "1008/1008 [==============================] - 3s 3ms/step - loss: 2.7646e-06 - MAE: 0.0011 - val_loss: 1.1478e-06 - val_MAE: 7.1102e-04\n"
     ]
    }
   ],
   "source": [
    "history = model.fit(x=X_train,y=y_train,\n",
    "        validation_data=(X_eval,y_eval),\n",
    "        batch_size=batch_size,\n",
    "        epochs=epochs,\n",
    "        callbacks=[early_stopping])"
   ]
  },
  {
   "cell_type": "code",
   "execution_count": 22,
   "metadata": {},
   "outputs": [
    {
     "data": {
      "text/plain": [
       "30"
      ]
     },
     "execution_count": 22,
     "metadata": {},
     "output_type": "execute_result"
    }
   ],
   "source": [
    "len(logs)"
   ]
  },
  {
   "cell_type": "code",
   "execution_count": 15,
   "metadata": {},
   "outputs": [
    {
     "data": {
      "image/png": "[encoded data removed]",
      "text/plain": [
       "<Figure size 864x576 with 1 Axes>"
      ]
     },
     "metadata": {
      "needs_background": "light"
     },
     "output_type": "display_data"
    }
   ],
   "source": [
    "# Plot loss curve MAE curve\n",
    "logs = pd.DataFrame(history.history)\n",
    "\n",
    "plt.style.use('matplot.mplstyle')\n",
    "plt.figure(figsize=(12, 8))\n",
    "plt.plot(logs.loc[:,\"loss\"], label='training loss')\n",
    "plt.plot(logs.loc[:,\"val_loss\"], label='validation loss')\n",
    "plt.xlabel(\"Epoch\")\n",
    "plt.ylabel(\"Loss\")\n",
    "# plt.legend()\n",
    "# plt.subplot(1, 2, 2)\n",
    "# plt.plot(logs.loc[5:,\"MAE\"], label='training MAE')\n",
    "# plt.plot(logs.loc[5:,\"val_MAE\"], label='validation MAE')\n",
    "# plt.xlabel(\"Epoch\")\n",
    "# plt.ylabel(\"MAE\")\n",
    "plt.legend(loc='upper right')\n",
    "plt.savefig(f\"Loss_Curve.png\")\n",
    "plt.savefig(f\"Loss_Curve.svg\")\n",
    "plt.show()"
   ]
  },
  {
   "cell_type": "code",
   "execution_count": 71,
   "metadata": {},
   "outputs": [],
   "source": [
    "date = datetime.now().strftime('%d_%m-%H_%M')\n",
    "model.save(f'70train_{batch_size}batch_{epochs}epochs_{date}.h5')"
   ]
  },
  {
   "cell_type": "code",
   "execution_count": 14,
   "metadata": {},
   "outputs": [
    {
     "name": "stdout",
     "output_type": "stream",
     "text": [
      "Mean Absolute Error: 0.0017456656034583358\n",
      "Mean Squared Error: 0.0028113165796953884\n"
     ]
    }
   ],
   "source": [
    "from sklearn.metrics import mean_squared_error,mean_absolute_error\n",
    "\n",
    "predictions = model.predict(X_test)\n",
    "\n",
    "print(f\"Mean Absolute Error: {mean_absolute_error(y_test.values,predictions)}\")\n",
    "print(f\"Mean Squared Error: {np.sqrt(mean_squared_error(y_test.values,predictions))}\")"
   ]
  },
  {
   "cell_type": "code",
   "execution_count": 29,
   "metadata": {},
   "outputs": [],
   "source": [
    "plt.style.use('matplot.mplstyle')\n",
    "\n",
    "for i in [5,22,65,100,200]:\n",
    "    for bar in [5,15,38]:\n",
    "        t = np.arange(144)\n",
    "        plt.figure(figsize = (13,6), dpi = 300)\n",
    "        plt.plot(t,y_test.values[(i*144):((i*144)+144), bar], 'C1', lw = 3.5, label = 'Dataset')\n",
    "        plt.plot(t,predictions[(i*144):((i*144)+144), bar], 'C0', lw = 2, label = 'Predictions')\n",
    "        \n",
    "        plt.xticks(np.arange(0, 145, 12), ('0h', '2h', '4h', '6h', '8h', '10h', '12h', '14h','16h', '18h', '20h', '22h', '24h'))\n",
    "        plt.ylim(0.89, 1.07)\n",
    "        plt.axhline(1.05, color=\"black\", lw = 2, linestyle=\"--\")\n",
    "        plt.axhline(0.92, color=\"black\", lw = 2, linestyle=\"--\")\n",
    "        plt.ylabel('p.u.')\n",
    "        plt.title(f'Voltage Bar{bar} - Day {i} - With P/Q as Input', fontsize=22)\n",
    "        plt.legend(loc='upper right', framealpha=1)\n",
    "        plt.savefig(f\"Voltage_Bar{bar}_Day{i}_PQ-025.jpg\")\n",
    "        plt.tight_layout()\n",
    "        plt.margins(x=0)\n",
    "        plt.grid(True)\n",
    "        plt.close()"
   ]
  },
  {
   "cell_type": "code",
   "execution_count": 40,
   "metadata": {},
   "outputs": [
    {
     "data": {
      "text/plain": [
       "(144000, 42)"
      ]
     },
     "execution_count": 40,
     "metadata": {},
     "output_type": "execute_result"
    }
   ],
   "source": [
    "### Testing the model in a dataset with more variance\n",
    "\n",
    "net_result = np.load('dataset/MC_Simulation_std_05_samples_1000_01_09-22_34.npz')\n",
    "# net_result = loadmat('dataset/resultados_w1000pts.mat')\n",
    "ptrafo1 = pd.DataFrame(net_result['p_trafo1'], columns = ['Ptrafo1'])\n",
    "ptrafo2 = pd.DataFrame(net_result['p_trafo2'], columns = ['Ptrafo2'])\n",
    "\n",
    "demand_p = pd.DataFrame(net_result['demand_p'])\n",
    "demand_p.columns = [f'P{col_name}' for col_name in demand_p.columns]\n",
    "demand_p = demand_p.drop(['P0','P25'], axis=1)\n",
    "\n",
    "demand_q = pd.DataFrame(net_result['demand_q'])\n",
    "demand_q.columns = [f'Q{col_name}' for col_name in demand_q.columns]\n",
    "demand_q = demand_q.drop(['Q0','Q25'], axis=1)\n",
    "\n",
    "voltages = pd.DataFrame(net_result['voltages'])\n",
    "\n",
    "vref1 = voltages.iloc[:, 0]\n",
    "vref2 = voltages.iloc[:, 25]\n",
    "\n",
    "voltages.shape"
   ]
  },
  {
   "cell_type": "code",
   "execution_count": 44,
   "metadata": {},
   "outputs": [],
   "source": [
    "## Creating a averageP/Q array of (144 x 42) by taking the mean value of all 1000 samples\n",
    "## Repeating it 1000 times to match the 144000 samples of the cargaP/Q array\n",
    "## Droping the 0th and 25th powers because this represents the transformer reference values\n",
    "avgP = net_result['demand_p'].reshape(144,1000,42).mean(axis=1)\n",
    "avgQ = net_result['demand_q'].reshape(144,1000,42).mean(axis=1)\n",
    "\n",
    "avgP = pd.DataFrame(avgP)\n",
    "avgP  = pd.concat([avgP]*1000, ignore_index=True)\n",
    "avgP.columns = [f'P{col_name}' for col_name in avgP.columns]\n",
    "avgP = avgP.drop(['P0','P25'], axis=1)\n",
    "\n",
    "avgQ = pd.DataFrame(avgQ)\n",
    "avgQ  = pd.concat([avgQ]*1000, ignore_index=True)\n",
    "avgQ.columns = [f'Q{col_name}' for col_name in avgQ.columns]\n",
    "avgQ = avgQ.drop(['Q0','Q25'], axis=1)\n",
    "\n",
    "pv = np.load('dataset/PV_Curves_1000_Samples_01_09-23_31.npz')\n",
    "\n",
    "pv_12 = pd.DataFrame(pv['PV_w'].flatten(), columns = ['pv_12'])\n",
    "pv_18 = pd.DataFrame(pv['PV_w'].flatten(), columns = ['pv_18'])\n",
    "pv_25 = pd.DataFrame(pv['PV_w'].flatten(), columns = ['pv_25'])\n",
    "pv_29 = (1/47) * pd.DataFrame(pv['PV_w'].flatten(), columns = ['pv_29'])\n",
    "pv_32 = (1/42) * pd.DataFrame(pv['PV_w'].flatten(), columns = ['pv_32'])\n",
    "## Creating the input arrays for train and test\n",
    "## X - train set 70%\n",
    "## X_test - test set 30%\n",
    "\n",
    "X = pd.concat([vref1, vref2, pv_12, pv_18, pv_25, pv_29, pv_32, ptrafo1, ptrafo2, avgP, avgQ], axis=1)\n",
    "X.rename(columns = {0:'V0', 25:'V25'}, inplace = True)\n",
    "\n",
    "## Creating the output arrays for train and test, and droping the reference(trafo) buses\n",
    "## Y - train set\n",
    "## y_test - test set\n",
    "\n",
    "Y = voltages.drop([0,25], axis=1)\n",
    "\n",
    "## Spliting the train dataset into train and validation data\n",
    "X_train, X_eval, y_train, y_eval = train_test_split(X,Y,test_size=0.5,random_state=202)\n",
    "\n",
    "## Scaling the input array\n",
    "voltage_scaler = MinMaxScaler()\n",
    "X_train.loc[:, voltage_columns] = voltage_scaler.fit_transform(X_train.loc[:, voltage_columns])\n",
    "X_eval.loc[:, voltage_columns] = voltage_scaler.transform(X_eval.loc[:, voltage_columns])\n",
    "\n",
    "active_power_scaler = MinMaxScaler()\n",
    "X_train.loc[:, active_power_columns] = active_power_scaler.fit_transform(X_train.loc[:, active_power_columns])\n",
    "X_eval.loc[:, active_power_columns] = active_power_scaler.transform(X_eval.loc[:, active_power_columns])\n",
    "\n",
    "reactive_power_scaler = MinMaxScaler()\n",
    "X_train.loc[:, reactive_power_columns] = reactive_power_scaler.fit_transform(X_train.loc[:, reactive_power_columns])\n",
    "X_eval.loc[:, reactive_power_columns] = reactive_power_scaler.transform(X_eval.loc[:, reactive_power_columns])\n"
   ]
  },
  {
   "cell_type": "code",
   "execution_count": 47,
   "metadata": {},
   "outputs": [
    {
     "name": "stdout",
     "output_type": "stream",
     "text": [
      "Mean Absolute Error: 0.0029046361182877047\n",
      "Mean Squared Error: 0.004494268782466886\n"
     ]
    }
   ],
   "source": [
    "from tensorflow.keras.models import load_model\n",
    "new_model = load_model(r'70train_70batch_150epochs_19_10-01_48.h5')\n",
    "\n",
    "predictions = new_model.predict(X_train)\n",
    "\n",
    "print(f\"Mean Absolute Error: {mean_absolute_error(y_train.values,predictions)}\")\n",
    "print(f\"Mean Squared Error: {np.sqrt(mean_squared_error(y_train.values,predictions))}\")"
   ]
  },
  {
   "cell_type": "code",
   "execution_count": 48,
   "metadata": {},
   "outputs": [],
   "source": [
    "plt.style.use('matplot.mplstyle')\n",
    "\n",
    "for i in [5,22,65,100,200]:\n",
    "    for bar in [5,15,38]:\n",
    "        t = np.arange(144)\n",
    "        plt.figure(figsize = (13,6), dpi = 300)\n",
    "        plt.plot(t,y_train.values[(i*144):((i*144)+144), bar], 'C1', lw = 3.5, label = 'Dataset')\n",
    "        plt.plot(t,predictions[(i*144):((i*144)+144), bar], 'C0', lw = 2, label = 'Predictions')\n",
    "        \n",
    "        plt.xticks(np.arange(0, 145, 12), ('0h', '2h', '4h', '6h', '8h', '10h', '12h', '14h','16h', '18h', '20h', '22h', '24h'))\n",
    "        plt.ylim(0.89, 1.07)\n",
    "        plt.axhline(1.05, color=\"black\", lw = 2, linestyle=\"--\")\n",
    "        plt.axhline(0.92, color=\"black\", lw = 2, linestyle=\"--\")\n",
    "        plt.ylabel('p.u.')\n",
    "        plt.title(f'Voltage Bar{bar} - Day {i} - With P/Q as Input', fontsize=22)\n",
    "        plt.legend(loc='upper right', framealpha=1)\n",
    "        plt.savefig(f\"05_Prediction_Voltage_Bar{bar}_Day{i}_PQ.jpg\")\n",
    "        plt.tight_layout()\n",
    "        plt.margins(x=0)\n",
    "        plt.grid(True)\n",
    "        plt.close()"
   ]
  }
 ],
 "metadata": {
  "kernelspec": {
   "display_name": "Python 3.9.7 ('nn')",
   "language": "python",
   "name": "python3"
  },
  "language_info": {
   "codemirror_mode": {
    "name": "ipython",
    "version": 3
   },
   "file_extension": ".py",
   "mimetype": "text/x-python",
   "name": "python",
   "nbconvert_exporter": "python",
   "pygments_lexer": "ipython3",
   "version": "3.9.7"
  },
  "orig_nbformat": 4,
  "vscode": {
   "interpreter": {
    "hash": "e91837a7a7811ce1baba58a337e6c2f9326166ec5011331d40c820304c9c4380"
   }
  }
 },
 "nbformat": 4,
 "nbformat_minor": 2
}
