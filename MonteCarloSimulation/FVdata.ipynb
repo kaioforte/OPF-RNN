{
 "cells": [
  {
   "cell_type": "markdown",
   "metadata": {},
   "source": [
    "## Generating PV curves from a Beta PDF"
   ]
  },
  {
   "cell_type": "code",
   "execution_count": 1,
   "metadata": {},
   "outputs": [],
   "source": [
    "import pandas as pd\n",
    "import numpy as np\n",
    "from datetime import datetime"
   ]
  },
  {
   "cell_type": "code",
   "execution_count": 12,
   "metadata": {},
   "outputs": [],
   "source": [
    "# Data irradiance taken from Nrel, this numbers represents the geolocalization\n",
    "data = pd.read_csv(r'../dataset\\NSRDB_Irradiance_Data_Portugal_109749_41.13_-8.62_2017.csv', header=2)\n",
    "# GHI is a mesurament of irradiance\n",
    "ghi = data['GHI'].to_numpy(dtype=float)\n",
    "# Normalizing this measurament to kW/m2\n",
    "ghi = ghi/1000\n",
    "# Also collecting the temperature\n",
    "temp = data['Temperature'].to_numpy(dtype=float)\n"
   ]
  },
  {
   "cell_type": "code",
   "execution_count": 13,
   "metadata": {},
   "outputs": [],
   "source": [
    "# Separating the irradiance data from january and july that represents Winter and Summer\n",
    "irrad_jan = ghi[:2976]\n",
    "irrad_jul = ghi[17376:20352]\n",
    "\n",
    "# Choosing at random 7 days (of 96 timesteps) from the dataset\n",
    "irrad_jan = [irrad_jan[576:672], irrad_jan[1440:1536], irrad_jan[1536:1632], irrad_jan[1632:1728], \n",
    "            irrad_jan[1728:1824], irrad_jan[1824:1920], irrad_jan[1920:2016]]\n",
    "irrad_jul = [irrad_jul[:96], irrad_jul[96:192], irrad_jul[192:288], irrad_jul[288:384],\n",
    "            irrad_jul[960:1056], irrad_jul[1056:1152], irrad_jul[1152:1248], irrad_jul[1440:1536],\n",
    "            irrad_jul[1920:2016], irrad_jul[2112:2208], irrad_jul[2400:2496],  irrad_jul[2496:2592]]\n",
    "\n",
    "# Calculating the mean and standard deviation\n",
    "irrad_medjan = np.mean(irrad_jan, 0)\n",
    "irrad_medjul = np.mean(irrad_jul, 0)\n",
    "irrad_stdjan = np.std(irrad_jan, 0)  \n",
    "irrad_stdjul = np.std(irrad_jul, 0)"
   ]
  },
  {
   "cell_type": "code",
   "execution_count": 14,
   "metadata": {},
   "outputs": [],
   "source": [
    "# Separating the temperature data from january and july that represents Winter and Summer\n",
    "temp_jan = temp[:2976]\n",
    "temp_jul = temp[17376:20352]\n",
    "\n",
    "# Choosing at random 7 days (of 96 timesteps) from the dataset\n",
    "temp_jan = [temp_jan[576:672], temp_jan[1440:1536], temp_jan[1536:1632], temp_jan[1632:1728], \n",
    "            temp_jan[1728:1824], temp_jan[1824:1920], temp_jan[1920:2016]]\n",
    "temp_jul = [temp_jul[:96], temp_jul[96:192], temp_jul[192:288], temp_jul[288:384],\n",
    "            temp_jul[960:1056], temp_jul[1056:1152], temp_jul[1152:1248], temp_jul[1440:1536],\n",
    "            temp_jul[1920:2016], temp_jul[2112:2208], temp_jul[2400:2496],  temp_jul[2496:2592]]\n",
    "\n",
    "# Calculating the mean\n",
    "temp_medjan = np.mean(temp_jan, 0)\n",
    "temp_medjul = np.mean(temp_jul, 0)\n"
   ]
  },
  {
   "cell_type": "markdown",
   "metadata": {},
   "source": [
    "### Beta PDF\n",
    "\n",
    "It is used this formulation from https://en.wikipedia.org/wiki/Beta_distribution to generate the curves\n",
    "\n",
    "![Beta PDF](../Images/beta_pdf.png)"
   ]
  },
  {
   "cell_type": "markdown",
   "metadata": {},
   "source": [
    "### Calculating alfa and beta for january and july"
   ]
  },
  {
   "cell_type": "code",
   "execution_count": 15,
   "metadata": {},
   "outputs": [],
   "source": [
    "# Calculating alfa and beta that represents one day of January\n",
    "beta_jan = np.zeros((np.shape(irrad_medjan)))\n",
    "alpha_jan = np.zeros((np.shape(irrad_medjan)))\n",
    "for i in range(96):\n",
    "    if irrad_stdjan[i] == 0:\n",
    "        beta_jan[i] = 0\n",
    "        alpha_jan[i] = 0\n",
    "    else:\n",
    "        beta_jan[i] = (1-irrad_medjan[i])*((irrad_medjan[i]*(1-irrad_medjan[i]))/(irrad_stdjan[i]**2) - 1)\n",
    "        alpha_jan[i] = (irrad_medjan[i]*beta_jan[i])/(1-irrad_medjan[i])\n",
    "\n",
    "# Calculating alfa and beta that represents one day of July\n",
    "beta_jul = np.zeros((np.shape(irrad_medjul)))\n",
    "alpha_jul = np.zeros((np.shape(irrad_medjul)))\n",
    "for i in range(96):\n",
    "    if irrad_stdjul[i] == 0:\n",
    "        beta_jul[i] = 0\n",
    "        alpha_jul[i] = 0\n",
    "    else:\n",
    "        beta_jul[i] = (1-irrad_medjul[i])*((irrad_medjul[i]*(1-irrad_medjul[i]))/(irrad_stdjul[i]**2) - 1)\n",
    "        alpha_jul[i] = (irrad_medjul[i]*beta_jul[i])/(1-irrad_medjul[i])"
   ]
  },
  {
   "cell_type": "code",
   "execution_count": 16,
   "metadata": {},
   "outputs": [
    {
     "data": {
      "text/plain": [
       "array([  0.        ,   0.        ,   0.        ,   0.        ,\n",
       "         0.        ,   0.        ,   0.        ,   0.        ,\n",
       "         0.        ,   0.        ,   0.        ,   0.        ,\n",
       "         0.        ,   0.        ,   0.        ,   0.        ,\n",
       "         0.        ,   0.        ,   0.        ,   0.        ,\n",
       "         0.        ,   0.        ,   0.        ,   0.        ,\n",
       "         0.        ,   0.        ,   0.        ,   0.        ,\n",
       "         0.        ,   0.        ,   0.        ,   0.        ,\n",
       "         0.        ,  73.25660256, 154.88136514, 339.87678834,\n",
       "       482.20967237, 499.92511767, 511.3328    , 491.65905963,\n",
       "       437.36686476, 424.98389645, 430.18911   , 415.3780801 ,\n",
       "       409.14580175, 453.39991898, 496.06265677, 619.96423077,\n",
       "       655.0686968 , 622.83976049, 566.59410716, 519.45849286,\n",
       "       495.55645427, 465.58223643, 436.42106824, 391.4925793 ,\n",
       "       362.39325118, 344.00344622, 328.93637657, 297.9989755 ,\n",
       "       271.38577222, 260.10036197, 233.29904566, 206.53429922,\n",
       "       168.3049736 , 131.75264139,  97.66019869,  67.1671331 ,\n",
       "        36.69985274,   5.50034053,   0.        ,   0.        ,\n",
       "         0.        ,   0.        ,   0.        ,   0.        ,\n",
       "         0.        ,   0.        ,   0.        ,   0.        ,\n",
       "         0.        ,   0.        ,   0.        ,   0.        ,\n",
       "         0.        ,   0.        ,   0.        ,   0.        ,\n",
       "         0.        ,   0.        ,   0.        ,   0.        ,\n",
       "         0.        ,   0.        ,   0.        ,   0.        ])"
      ]
     },
     "execution_count": 16,
     "metadata": {},
     "output_type": "execute_result"
    }
   ],
   "source": [
    "alpha_jan"
   ]
  },
  {
   "cell_type": "markdown",
   "metadata": {},
   "source": [
    "### Generate the irradiance curves for one day, using Beta PDF"
   ]
  },
  {
   "cell_type": "code",
   "execution_count": 17,
   "metadata": {},
   "outputs": [],
   "source": [
    "# Number of samples\n",
    "N = 1000 \n",
    "\n",
    "# Initialize a random generator\n",
    "rng = np.random.default_rng(15)\n",
    "\n",
    "# Initialize the arrays of irradiance curves\n",
    "irrad_winter = np.zeros((N, 96))\n",
    "irrad_summer = np.zeros((N, 96))\n",
    "\n",
    "# Generate N samples of 96 timesteps (1 day)\n",
    "for i in range(96):\n",
    "    if (alpha_jan[i] or beta_jan[i]) <= 0:\n",
    "        irrad_winter[:,i] = 0\n",
    "    else:\n",
    "        irrad_winter[:,i] = rng.beta(alpha_jan[i], beta_jan[i], N) \n",
    "\n",
    "for i in range(96):\n",
    "    if (alpha_jul[i] or beta_jul[i]) <= 0:\n",
    "        irrad_summer[:,i] = 0\n",
    "    else:\n",
    "        irrad_summer[:,i] = rng.beta(alpha_jul[i], beta_jul[i], N)"
   ]
  },
  {
   "cell_type": "markdown",
   "metadata": {},
   "source": [
    "### Converting this irradiance into Power generated by the PV system "
   ]
  },
  {
   "cell_type": "code",
   "execution_count": 9,
   "metadata": {},
   "outputs": [],
   "source": [
    "# Data of the PV system \n",
    "pmpref = 780  # in (Wp)\n",
    "noct   = 45   # Nominal operating cell temperature (Datasheet)\n",
    "n      = 220   # Number of modules \n",
    "ninv   = 0.95 # Inverter efficiency\n",
    "\n",
    "# From kW/m2 to W/m2\n",
    "irrad_winter = irrad_winter*1000\n",
    "irrad_summer = irrad_summer*1000\n",
    "\n",
    "# Initializing arrays\n",
    "tc_w = np.zeros((N, 96))\n",
    "tc_s = np.zeros((N, 96))\n",
    "pmp_w = np.zeros((N, 96))\n",
    "pmp_s = np.zeros((N, 96))\n",
    "ppv_w = np.zeros((N, 96))\n",
    "ppv_s = np.zeros((N, 96))\n",
    "\n",
    "# Calculating the power generated by the PVs\n",
    "for i in range(N):\n",
    "    for j in range(96):\n",
    "        tc_w[i,j] = temp_medjan[j]+((noct-20)/800)*irrad_winter[i,j]\n",
    "        tc_s[i,j] = temp_medjul[j]+((noct-20)/800)*irrad_summer[i,j]\n",
    "        pmp_w[i,j] = n*pmpref*(irrad_winter[i,j]/1000)*(1-0.0043*(tc_w[i,j]-25))\n",
    "        pmp_s[i,j] = n*pmpref*(irrad_summer[i,j]/1000)*(1-0.0043*(tc_s[i,j]-25)) \n",
    "        ppv_w[i,j] = (pmp_w[i,j]*ninv)*10**-3 # Potencia de saída da usina Fotovoltaica (em kW)\n",
    "        ppv_s[i,j] = (pmp_s[i,j]*ninv)*10**-3"
   ]
  },
  {
   "cell_type": "markdown",
   "metadata": {},
   "source": [
    "### Creating 144 pts from 96"
   ]
  },
  {
   "cell_type": "code",
   "execution_count": 10,
   "metadata": {},
   "outputs": [],
   "source": [
    "# Arrays to store the 144pts curves\n",
    "PV_s = np.zeros((N, 144))\n",
    "PV_w = np.zeros((N, 144))\n",
    "k = 1\n",
    "l = 1\n",
    "ll = 0\n",
    "for mc in range(N):\n",
    "   for i in range(2,96,2):\n",
    "      PV_s[mc][i+k] = ppv_s[mc,i]\n",
    "      PV_w[mc][i+k] = ppv_w[mc,i]\n",
    "      k = k + 1\n",
    "      PV_s[mc][i+ll] = (0.5*ppv_s[mc,i]+ppv_s[mc,i-1])/1.5 \n",
    "      PV_w[mc][i+ll] = (0.5*ppv_w[mc,i]+ppv_w[mc,i-1])/1.5\n",
    "      ll = ll + 1\n",
    "    \n",
    "   for j in range(3,96,2):\n",
    "      PV_s[mc][j+l] = (2*ppv_s[mc,j] + ppv_s[mc,j-1])/3\n",
    "      PV_w[mc][j+l] = (2*ppv_w[mc,j] + ppv_w[mc,j-1])/3\n",
    "      l = l + 1\n",
    "    \n",
    "   k = 1 \n",
    "   l = 1 \n",
    "   ll = 0\n",
    "\n",
    "\n",
    "# From kW to MW\n",
    "PV_s = PV_s/1000\n",
    "PV_w = PV_w/1000\n",
    "\n",
    "date = datetime.now().strftime('%d_%m-%H_%M')\n",
    "# Save the fotovoltaic curves\n",
    "np.savez(f\"../dataset/PV_Curves_{N}_Samples_{date}\", PV_s=PV_s, PV_w=PV_w)"
   ]
  }
 ],
 "metadata": {
  "interpreter": {
   "hash": "e91837a7a7811ce1baba58a337e6c2f9326166ec5011331d40c820304c9c4380"
  },
  "kernelspec": {
   "display_name": "Python 3.9.7 ('nn')",
   "language": "python",
   "name": "python3"
  },
  "language_info": {
   "codemirror_mode": {
    "name": "ipython",
    "version": 3
   },
   "file_extension": ".py",
   "mimetype": "text/x-python",
   "name": "python",
   "nbconvert_exporter": "python",
   "pygments_lexer": "ipython3",
   "version": "3.9.7 (default, Sep 16 2021, 16:59:28) [MSC v.1916 64 bit (AMD64)]"
  },
  "orig_nbformat": 4
 },
 "nbformat": 4,
 "nbformat_minor": 2
}
