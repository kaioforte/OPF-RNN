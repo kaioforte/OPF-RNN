{
 "cells": [
  {
   "cell_type": "code",
   "execution_count": 39,
   "metadata": {},
   "outputs": [],
   "source": [
    "import pandapower as pp\n",
    "import pandapower.networks as pn\n",
    "import numpy as np\n",
    "from datetime import datetime\n",
    "\n",
    "# Loading the CASE33BW from Matpower\n",
    "net = pn.case33bw()\n",
    "# Removing the buses geo data\n",
    "net.pop(\"bus_geodata\")"
   ]
  },
  {
   "cell_type": "markdown",
   "metadata": {},
   "source": [
    "### Buses"
   ]
  },
  {
   "cell_type": "code",
   "execution_count": 32,
   "metadata": {},
   "outputs": [],
   "source": [
    "# Add the FV buses to the network at buses 25-33 (remember that it start counts the buses from 0 index)\n",
    "\n",
    "# First create an index that fits all the new values after the row we want to add\n",
    "# Add these new buses to the network\n",
    "# Sort the new indexes and then reset it so it can create new indexes without flot numbers (with drop=true to remove the old index column) \n",
    "added_buses = np.linspace(24.1,24.9, 9)\n",
    "for i in added_buses:\n",
    "    pp.create_bus(net, 0.4, index = i, max_vm_pu = 1.08, min_vm_pu=0.92, zone=1.0)\n",
    "net.bus = net.bus.sort_index().reset_index(drop=True)\n",
    "\n",
    "# Correcting the buses names \n",
    "for i in range(25,42):\n",
    "    net.bus.loc[i, \"name\"] = i\n"
   ]
  },
  {
   "cell_type": "markdown",
   "metadata": {},
   "source": [
    "### Loads"
   ]
  },
  {
   "cell_type": "code",
   "execution_count": 33,
   "metadata": {},
   "outputs": [],
   "source": [
    "# Add the first load (index = 0) to be equal to the matlab case\n",
    "pp.create_load(net, 0, p_mw=0, q_mvar=0, index=-1, controllable = False, in_service = True, type=None)\n",
    "net.load = net.load.sort_index().reset_index(drop=True)\n",
    "\n",
    "# Changing the load at bus 24 (bus 25 in matlab) to active and reactive power = 0 \n",
    "net.load.loc[24, [\"p_mw\", \"q_mvar\"]] = 0.0\n",
    "\n",
    "# Add the FV load to the network at buses 25-33 (remember that it start counts the buses from 0 index)\n",
    "# Same method used with buses\n",
    "index = np.linspace(24.1, 24.9, 9)\n",
    "added_buses = np.arange(25,34)\n",
    "pd = np.array([0.0, 3.1, 2.1, 2.5, 2.6, 2.0, 3.1, 2.3, 2.6])\n",
    "for i, j, k in zip(added_buses, pd, index):\n",
    "    pp.create_load(net, i, p_mw=j/1000, index=k, q_mvar=0, controllable = False, in_service = True, type=None)\n",
    "net.load = net.load.sort_index().reset_index(drop=True)\n",
    "\n",
    "# Correcting the buses that the remaining loads are connected \n",
    "for i in range(34,42):\n",
    "    net.load.loc[i, \"bus\"] = i\n",
    "\n",
    "cols = ['bus',\n",
    " 'p_mw',\n",
    " 'q_mvar',\n",
    " 'const_i_percent',\n",
    " 'const_z_percent',\n",
    " 'controllable',\n",
    " 'in_service',\n",
    " 'name',\n",
    " 'scaling',\n",
    " 'sn_mva',\n",
    " 'type']\n",
    "# net.load[cols]"
   ]
  },
  {
   "cell_type": "markdown",
   "metadata": {},
   "source": [
    "### Lines"
   ]
  },
  {
   "cell_type": "code",
   "execution_count": 34,
   "metadata": {},
   "outputs": [],
   "source": [
    "# Removing the lines 32-37 that not appears in the matlab file\n",
    "net.line.drop(np.arange(32,37), axis=0, inplace=True)\n",
    "\n",
    "# Changing the columns position for a better reading\n",
    "# Used cols = df.columns.tolist() to get this line_columns list\n",
    "line_columns = ['from_bus',\n",
    " 'to_bus',\n",
    " 'r_ohm_per_km',\n",
    " 'x_ohm_per_km',\n",
    " 'c_nf_per_km',\n",
    " 'g_us_per_km',\n",
    " 'in_service',\n",
    " 'length_km',\n",
    " 'max_i_ka',\n",
    " 'max_loading_percent',\n",
    " 'name',\n",
    " 'parallel',\n",
    " 'std_type',\n",
    " 'type',\n",
    " 'df']\n",
    "net.line = net.line[line_columns]\n",
    "\n",
    "# Adjusting the buses of index 24-31 and changing its \"from and to\" buses\n",
    "from_bus = np.array([5, 34,\t35,\t36,\t37,\t38,\t39,\t40])\n",
    "to_bus = np.array([34, 35, 36, 37, 38, 39, 40, 41])\n",
    "for i in range(24,32):\n",
    "    net.line.loc[i, [\"from_bus\", \"to_bus\"]] = from_bus[i-24], to_bus[i-24]\n",
    "\n",
    "# Creating new lines\n",
    "from_bus = np.array([24, 25, 26, 27, 28, 29, 30, 31, 32])\n",
    "to_bus = np.array([25, 26, 27, 28, 29, 30, 31, 32, 33])\n",
    "r = np.array([0.0000, 0.0176, 0.0320, 0.0208, 0.0544, 0.0208, 0.0448, 0.0672, 0.0224])\n",
    "x = np.array([0.1024, 0.0040, 0.0072, 0.0047, 0.0123, 0.0047, 0.0101, 0.0152, 0.0051])\n",
    "\n",
    "for i, j, k, z in zip(from_bus, to_bus, r, x):\n",
    "    pp.create_line_from_parameters(net, from_bus=i, to_bus=j, r_ohm_per_km=k, x_ohm_per_km=z, length_km=1.0, c_nf_per_km=0.0, max_i_ka=99999.0, max_loading_percent=100.0, type=\"ol\")"
   ]
  },
  {
   "cell_type": "code",
   "execution_count": 35,
   "metadata": {},
   "outputs": [],
   "source": [
    "date = datetime.now().strftime('%d_%m-%H_%M')\n",
    "\n",
    "# Saving the modified network to a xlsx file\n",
    "pp.to_excel(net, f\"case33bw_mod_{date}.xlsx\")"
   ]
  }
 ],
 "metadata": {
  "kernelspec": {
   "display_name": "Python 3.9.7 ('nn')",
   "language": "python",
   "name": "python3"
  },
  "language_info": {
   "codemirror_mode": {
    "name": "ipython",
    "version": 3
   },
   "file_extension": ".py",
   "mimetype": "text/x-python",
   "name": "python",
   "nbconvert_exporter": "python",
   "pygments_lexer": "ipython3",
   "version": "3.9.7"
  },
  "orig_nbformat": 4,
  "vscode": {
   "interpreter": {
    "hash": "e91837a7a7811ce1baba58a337e6c2f9326166ec5011331d40c820304c9c4380"
   }
  }
 },
 "nbformat": 4,
 "nbformat_minor": 2
}
